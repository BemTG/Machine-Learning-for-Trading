{
 "cells": [
  {
   "cell_type": "code",
   "execution_count": 1,
   "metadata": {},
   "outputs": [
    {
     "name": "stderr",
     "output_type": "stream",
     "text": [
      "C:\\Users\\A\\Anaconda4\\lib\\site-packages\\pandas_datareader\\compat\\__init__.py:7: FutureWarning: pandas.util.testing is deprecated. Use the functions in the public API at pandas.testing instead.\n",
      "  from pandas.util.testing import assert_frame_equal\n"
     ]
    }
   ],
   "source": [
    "import pandas as pd\n",
    "import numpy as np\n",
    "import pandas_datareader as dt\n",
    "import matplotlib.pyplot as plt\n",
    "import scipy.optimize as spo"
   ]
  },
  {
   "cell_type": "code",
   "execution_count": 2,
   "metadata": {},
   "outputs": [],
   "source": [
    "def f(X):\n",
    "    Y=(X -1.5)**2 + 0.5 #function\n",
    "    print('X={} , Y={}'.format(X,Y))\n",
    "    return Y"
   ]
  },
  {
   "cell_type": "code",
   "execution_count": 3,
   "metadata": {},
   "outputs": [
    {
     "name": "stdout",
     "output_type": "stream",
     "text": [
      "X=2 , Y=0.75\n"
     ]
    },
    {
     "data": {
      "text/plain": [
       "0.75"
      ]
     },
     "execution_count": 3,
     "metadata": {},
     "output_type": "execute_result"
    }
   ],
   "source": [
    "f(2)"
   ]
  },
  {
   "cell_type": "code",
   "execution_count": 6,
   "metadata": {},
   "outputs": [
    {
     "name": "stdout",
     "output_type": "stream",
     "text": [
      "X=[2.] , Y=[0.75]\n",
      "X=[2.] , Y=[0.75]\n",
      "X=[2.00000001] , Y=[0.75000001]\n",
      "X=[0.99999999] , Y=[0.75000001]\n",
      "X=[1.5] , Y=[0.5]\n",
      "X=[1.5] , Y=[0.5]\n",
      "X=[1.50000001] , Y=[0.5]\n",
      "Optimization terminated successfully.    (Exit mode 0)\n",
      "            Current function value: 0.5\n",
      "            Iterations: 2\n",
      "            Function evaluations: 7\n",
      "            Gradient evaluations: 2\n",
      "Minima found at:\n",
      "X= [1.5], Y=0.5\n"
     ]
    }
   ],
   "source": [
    "def optimizer():\n",
    "    X_guess=2\n",
    "    min_result=spo.minimize(f,X_guess,method='SLSQP',options={'disp':True})\n",
    "    print('Minima found at:')\n",
    "    print('X= {}, Y={}'.format(min_result.x, min_result.fun))\n",
    "\n",
    "optimizer()"
   ]
  },
  {
   "cell_type": "code",
   "execution_count": 9,
   "metadata": {},
   "outputs": [
    {
     "name": "stdout",
     "output_type": "stream",
     "text": [
      "X=[2.] , Y=[0.75]\n",
      "X=[2.] , Y=[0.75]\n",
      "X=[2.00000001] , Y=[0.75000001]\n",
      "X=[0.99999999] , Y=[0.75000001]\n",
      "X=[1.5] , Y=[0.5]\n",
      "X=[1.5] , Y=[0.5]\n",
      "X=[1.50000001] , Y=[0.5]\n",
      "Optimization terminated successfully.    (Exit mode 0)\n",
      "            Current function value: 0.5\n",
      "            Iterations: 2\n",
      "            Function evaluations: 7\n",
      "            Gradient evaluations: 2\n",
      "Minima found at:\n",
      "X= [1.5], Y=0.5\n",
      "X=[0.5   0.575 0.65  0.725 0.8   0.875 0.95  1.025 1.1   1.175 1.25  1.325\n",
      " 1.4   1.475 1.55  1.625 1.7   1.775 1.85  1.925 2.   ] , Y=[1.5      1.355625 1.2225   1.100625 0.99     0.890625 0.8025   0.725625\n",
      " 0.66     0.605625 0.5625   0.530625 0.51     0.500625 0.5025   0.515625\n",
      " 0.54     0.575625 0.6225   0.680625 0.75    ]\n"
     ]
    },
    {
     "data": {
      "image/png": "[encoded data removed]",
      "text/plain": [
       "<Figure size 432x288 with 1 Axes>"
      ]
     },
     "metadata": {
      "needs_background": "light"
     },
     "output_type": "display_data"
    }
   ],
   "source": [
    "def optimizer():\n",
    "    X_guess=2\n",
    "    min_result=spo.minimize(f,X_guess,method='SLSQP',options={'disp':True})\n",
    "    print('Minima found at:')\n",
    "    print('X= {}, Y={}'.format(min_result.x, min_result.fun))\n",
    "\n",
    "\n",
    "    XPlot=np.linspace(0.5,2,21)\n",
    "    YPlot=f(XPlot)\n",
    "    plt.plot(XPlot,YPlot)\n",
    "    plt.plot(min_result.x, min_result.fun, 'ro')\n",
    "    plt.show()\n",
    "\n",
    "optimizer()"
   ]
  },
  {
   "cell_type": "code",
   "execution_count": null,
   "metadata": {},
   "outputs": [],
   "source": []
  }
 ],
 "metadata": {
  "kernelspec": {
   "display_name": "Python 3",
   "language": "python",
   "name": "python3"
  },
  "language_info": {
   "codemirror_mode": {
    "name": "ipython",
    "version": 3
   },
   "file_extension": ".py",
   "mimetype": "text/x-python",
   "name": "python",
   "nbconvert_exporter": "python",
   "pygments_lexer": "ipython3",
   "version": "3.7.4"
  }
 },
 "nbformat": 4,
 "nbformat_minor": 2
}
